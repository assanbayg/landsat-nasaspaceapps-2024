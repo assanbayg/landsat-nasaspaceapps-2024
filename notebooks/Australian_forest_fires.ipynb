{
  "nbformat": 4,
  "nbformat_minor": 0,
  "metadata": {
    "colab": {
      "provenance": []
    },
    "kernelspec": {
      "name": "python3",
      "display_name": "Python 3"
    },
    "language_info": {
      "name": "python"
    }
  },
  "cells": [
    {
      "cell_type": "code",
      "execution_count": 54,
      "metadata": {
        "colab": {
          "base_uri": "https://localhost:8080/"
        },
        "id": "hChNKemJwkh4",
        "outputId": "f273c8ae-78c1-4214-e2b7-0966128bd594"
      },
      "outputs": [
        {
          "output_type": "execute_result",
          "data": {
            "text/plain": [
              "(   latitude  longitude  bright_ti4  scan  track    acq_date  acq_time  \\\n",
              " 0 -34.45902  150.88040       326.5  0.60   0.71  2019-08-01       246   \n",
              " 1 -31.70724  151.07191       367.0  0.56   0.69  2019-08-01       247   \n",
              " 2 -31.39626  149.65253       325.2  0.68   0.74  2019-08-01       247   \n",
              " 3 -30.39774  152.06432       347.8  0.48   0.65  2019-08-01       247   \n",
              " 4 -31.20248  151.89766       350.7  0.50   0.66  2019-08-01       247   \n",
              " \n",
              "   satellite instrument confidence  version  bright_ti5   frp  type  \n",
              " 0         N      VIIRS          n        1       290.7   5.8     3  \n",
              " 1         N      VIIRS          h        1       291.9  10.4     0  \n",
              " 2         N      VIIRS          n        1       292.7   5.6     0  \n",
              " 3         N      VIIRS          n        1       287.6   9.1     0  \n",
              " 4         N      VIIRS          n        1       292.3   9.4     0  ,\n",
              "    latitude  longitude  brightness  scan  track    acq_date  acq_time  \\\n",
              " 0  -11.8070   142.0583       313.0   1.0    1.0  2019-08-01        56   \n",
              " 1  -11.7924   142.0850       319.3   1.0    1.0  2019-08-01        56   \n",
              " 2  -12.8398   132.8744       311.6   3.1    1.7  2019-08-01        57   \n",
              " 3  -14.4306   143.3035       310.1   1.1    1.1  2019-08-01        57   \n",
              " 4  -12.4953   131.4897       310.3   4.0    1.9  2019-08-01        57   \n",
              " \n",
              "   satellite instrument  confidence  version  bright_t31   frp daynight  type  \n",
              " 0     Terra      MODIS          48      6.3       297.3   6.6        D     0  \n",
              " 1     Terra      MODIS          71      6.3       297.3  11.3        D     0  \n",
              " 2     Terra      MODIS          42      6.3       298.7  23.1        D     0  \n",
              " 3     Terra      MODIS          33      6.3       296.1   6.5        D     0  \n",
              " 4     Terra      MODIS          36      6.3       298.8  27.6        D     0  )"
            ]
          },
          "metadata": {},
          "execution_count": 54
        }
      ],
      "source": [
        "import pandas as pd\n",
        "import numpy as np\n",
        "from sklearn.model_selection import train_test_split\n",
        "from sklearn.preprocessing import StandardScaler\n",
        "from sklearn.metrics import accuracy_score, classification_report\n",
        "from sklearn.linear_model import LogisticRegression\n",
        "\n",
        "# Load both fire datasets\n",
        "fire_data_1 = pd.read_csv('/content/fire_archive_V1_96617.csv')\n",
        "fire_data_2 = pd.read_csv('/content/fire_archive_M6_96619.csv')\n",
        "\n",
        "# Display the first few rows of both datasets to understand their structure\n",
        "fire_data_1.head(), fire_data_2.head()\n"
      ]
    },
    {
      "cell_type": "code",
      "source": [
        "fire_data_1 = pd.read_csv(file_path_1)\n",
        "fire_data_2 = pd.read_csv(file_path_2)\n",
        "\n",
        "# Combine the datasets (keeping relevant columns)\n",
        "fire_data_1_cleaned = fire_data_1[['latitude', 'longitude', 'bright_ti4', 'frp', 'confidence', 'type']]\n",
        "fire_data_2_cleaned = fire_data_2[['latitude', 'longitude', 'brightness', 'frp', 'confidence', 'type']]\n",
        "\n",
        "# Rename brightness column to keep it consistent across datasets\n",
        "fire_data_1_cleaned.rename(columns={'bright_ti4': 'brightness'}, inplace=True)\n",
        "\n",
        "# Combine the two datasets\n",
        "combined_fire_data = pd.concat([fire_data_1_cleaned, fire_data_2_cleaned])\n",
        "\n",
        "# Convert 'confidence' to numeric, replacing 'n' with NaN and dropping rows with NaNs\n",
        "combined_fire_data['confidence'] = pd.to_numeric(combined_fire_data['confidence'], errors='coerce')\n",
        "combined_fire_data.dropna(inplace=True)\n",
        "\n",
        "# Remap the classes in the 'type' column to be consecutive\n",
        "class_mapping = {0: 0, 2: 1, 3: 2}\n",
        "combined_fire_data['type'] = combined_fire_data['type'].map(class_mapping)\n",
        "\n",
        "# Prepare the features (X) and target (y)\n",
        "X = combined_fire_data[['latitude', 'longitude', 'brightness', 'frp', 'confidence']]\n",
        "y = combined_fire_data['type']  # Remapped 'type' column is our target variable\n",
        "\n",
        "# Split the data into training and testing sets\n",
        "X_train, X_test, y_train, y_test = train_test_split(X, y, test_size=0.3, random_state=42)\n",
        "\n",
        "# Normalize the features using StandardScaler\n",
        "scaler = StandardScaler()\n",
        "X_train_scaled = scaler.fit_transform(X_train)\n",
        "X_test_scaled = scaler.transform(X_test)\n",
        "\n",
        "# Train a Logistic Regression model\n",
        "log_reg_model = LogisticRegression(multi_class='multinomial', solver='lbfgs', max_iter=1000)\n",
        "log_reg_model.fit(X_train_scaled, y_train)\n",
        "\n",
        "# Make predictions on the test set\n",
        "y_pred = log_reg_model.predict(X_test_scaled)\n",
        "\n",
        "# Evaluate the model accuracy\n",
        "accuracy = accuracy_score(y_test, y_pred)\n",
        "classification_rep = classification_report(y_test, y_pred)\n",
        "\n",
        "print(f\"Test Accuracy: {accuracy * 100:.2f}%\")\n",
        "print(\"\\nClassification Report:\\n\", classification_rep)\n",
        "\n",
        "# Example input (latitude, longitude, brightness, frp, confidence)\n",
        "example_input = np.array([[ -31.70724, 151.07191, 367.0, 10.4, 100 ]])  # Example data\n",
        "\n",
        "# Scale the input data using the same scaler\n",
        "example_input_scaled = scaler.transform(example_input)\n",
        "\n",
        "# Make a prediction for the example\n",
        "predicted_class = log_reg_model.predict(example_input_scaled)\n",
        "\n",
        "# Output the predicted class for the example\n",
        "print(f\"Predicted class for the example: {predicted_class[0]}\")"
      ],
      "metadata": {
        "colab": {
          "base_uri": "https://localhost:8080/"
        },
        "id": "4OhPLCV4_JWG",
        "outputId": "1ffd1d6c-b72c-4464-b76c-5fddaf174a64"
      },
      "execution_count": 55,
      "outputs": [
        {
          "output_type": "stream",
          "name": "stderr",
          "text": [
            "<ipython-input-55-1c88bf451b18>:9: SettingWithCopyWarning: \n",
            "A value is trying to be set on a copy of a slice from a DataFrame\n",
            "\n",
            "See the caveats in the documentation: https://pandas.pydata.org/pandas-docs/stable/user_guide/indexing.html#returning-a-view-versus-a-copy\n",
            "  fire_data_1_cleaned.rename(columns={'bright_ti4': 'brightness'}, inplace=True)\n",
            "/usr/local/lib/python3.10/dist-packages/sklearn/linear_model/_logistic.py:1247: FutureWarning: 'multi_class' was deprecated in version 1.5 and will be removed in 1.7. From then on, it will always use 'multinomial'. Leave it to its default value to avoid this warning.\n",
            "  warnings.warn(\n"
          ]
        },
        {
          "output_type": "stream",
          "name": "stdout",
          "text": [
            "Test Accuracy: 99.03%\n",
            "\n",
            "Classification Report:\n",
            "               precision    recall  f1-score   support\n",
            "\n",
            "           0       0.99      1.00      1.00     10699\n",
            "           1       0.00      0.00      0.00       105\n",
            "\n",
            "    accuracy                           0.99     10804\n",
            "   macro avg       0.50      0.50      0.50     10804\n",
            "weighted avg       0.98      0.99      0.99     10804\n",
            "\n",
            "Predicted class for the example: 0\n"
          ]
        },
        {
          "output_type": "stream",
          "name": "stderr",
          "text": [
            "/usr/local/lib/python3.10/dist-packages/sklearn/metrics/_classification.py:1531: UndefinedMetricWarning: Precision is ill-defined and being set to 0.0 in labels with no predicted samples. Use `zero_division` parameter to control this behavior.\n",
            "  _warn_prf(average, modifier, f\"{metric.capitalize()} is\", len(result))\n",
            "/usr/local/lib/python3.10/dist-packages/sklearn/metrics/_classification.py:1531: UndefinedMetricWarning: Precision is ill-defined and being set to 0.0 in labels with no predicted samples. Use `zero_division` parameter to control this behavior.\n",
            "  _warn_prf(average, modifier, f\"{metric.capitalize()} is\", len(result))\n",
            "/usr/local/lib/python3.10/dist-packages/sklearn/metrics/_classification.py:1531: UndefinedMetricWarning: Precision is ill-defined and being set to 0.0 in labels with no predicted samples. Use `zero_division` parameter to control this behavior.\n",
            "  _warn_prf(average, modifier, f\"{metric.capitalize()} is\", len(result))\n",
            "/usr/local/lib/python3.10/dist-packages/sklearn/base.py:493: UserWarning: X does not have valid feature names, but StandardScaler was fitted with feature names\n",
            "  warnings.warn(\n"
          ]
        }
      ]
    },
    {
      "cell_type": "code",
      "source": [
        "import joblib\n",
        "\n",
        "# Save the trained Logistic Regression model to a file\n",
        "joblib.dump(log_reg_model, 'logistic_regression_fire_model.pkl')\n",
        "\n",
        "# Save the scaler as well since we need it to scale future inputs before predictions\n",
        "joblib.dump(scaler, 'scaler_fire_model.pkl')\n",
        "\n",
        "print(\"Model and scaler saved successfully.\")\n"
      ],
      "metadata": {
        "colab": {
          "base_uri": "https://localhost:8080/"
        },
        "id": "n_qxo-7t_93L",
        "outputId": "3fd32f23-675d-43dc-cd59-9120bb51a432"
      },
      "execution_count": 56,
      "outputs": [
        {
          "output_type": "stream",
          "name": "stdout",
          "text": [
            "Model and scaler saved successfully.\n"
          ]
        }
      ]
    },
    {
      "cell_type": "code",
      "source": [
        "# Load the saved model and scaler\n",
        "loaded_model = joblib.load('logistic_regression_fire_model.pkl')\n",
        "loaded_scaler = joblib.load('scaler_fire_model.pkl')\n",
        "\n",
        "# Example input (latitude, longitude, brightness, frp, confidence)\n",
        "example_input = np.array([[ -31.70724, 151.07191, 367.0, 10.4, 100 ]])  # Example data\n",
        "\n",
        "# Scale the input using the loaded scaler\n",
        "example_input_scaled = loaded_scaler.transform(example_input)\n",
        "\n",
        "# Make a prediction using the loaded model\n",
        "predicted_class = loaded_model.predict(example_input_scaled)\n",
        "\n",
        "# Output the predicted class for the example\n",
        "print(f\"Predicted class for the example: {predicted_class[0]}\")\n"
      ],
      "metadata": {
        "colab": {
          "base_uri": "https://localhost:8080/"
        },
        "id": "7-VdQGZEAcy5",
        "outputId": "228decc7-e18e-4555-9cf6-8a7d713fcffa"
      },
      "execution_count": 57,
      "outputs": [
        {
          "output_type": "stream",
          "name": "stdout",
          "text": [
            "Predicted class for the example: 0\n"
          ]
        },
        {
          "output_type": "stream",
          "name": "stderr",
          "text": [
            "/usr/local/lib/python3.10/dist-packages/sklearn/base.py:493: UserWarning: X does not have valid feature names, but StandardScaler was fitted with feature names\n",
            "  warnings.warn(\n"
          ]
        }
      ]
    }
  ]
}